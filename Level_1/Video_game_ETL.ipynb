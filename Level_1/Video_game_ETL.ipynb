{
  "nbformat": 4,
  "nbformat_minor": 0,
  "metadata": {
    "colab": {
      "name": "Video_game_ETL.ipynb",
      "provenance": [],
      "collapsed_sections": [],
      "authorship_tag": "ABX9TyPLQwGbaXmIQTLAdQU8Jo4t",
      "include_colab_link": true
    },
    "kernelspec": {
      "name": "python3",
      "display_name": "Python 3"
    },
    "language_info": {
      "name": "python"
    }
  },
  "cells": [
    {
      "cell_type": "markdown",
      "metadata": {
        "id": "view-in-github",
        "colab_type": "text"
      },
      "source": [
        "<a href=\"https://colab.research.google.com/github/cekiorpes/big-data-challenge/blob/main/Level_1/Video_game_ETL.ipynb\" target=\"_parent\"><img src=\"https://colab.research.google.com/assets/colab-badge.svg\" alt=\"Open In Colab\"/></a>"
      ]
    },
    {
      "cell_type": "code",
      "execution_count": 1,
      "metadata": {
        "colab": {
          "base_uri": "https://localhost:8080/"
        },
        "id": "tFNXubgRotIZ",
        "outputId": "2a956e2b-738f-4dc7-c16a-be0be610812a"
      },
      "outputs": [
        {
          "output_type": "stream",
          "name": "stdout",
          "text": [
            "\r0% [Working]\r            \rHit:1 http://archive.ubuntu.com/ubuntu bionic InRelease\n",
            "\r0% [Waiting for headers] [Connected to cloud.r-project.org (65.8.178.20)] [Conn\r                                                                               \rHit:2 http://security.ubuntu.com/ubuntu bionic-security InRelease\n",
            "\r0% [Waiting for headers] [Connected to cloud.r-project.org (65.8.178.20)] [Conn\r                                                                               \rHit:3 https://developer.download.nvidia.com/compute/cuda/repos/ubuntu1804/x86_64  InRelease\n",
            "Hit:4 http://archive.ubuntu.com/ubuntu bionic-updates InRelease\n",
            "Hit:5 http://archive.ubuntu.com/ubuntu bionic-backports InRelease\n",
            "Hit:6 https://cloud.r-project.org/bin/linux/ubuntu bionic-cran40/ InRelease\n",
            "Hit:7 http://ppa.launchpad.net/c2d4u.team/c2d4u4.0+/ubuntu bionic InRelease\n",
            "Ign:8 https://developer.download.nvidia.com/compute/machine-learning/repos/ubuntu1804/x86_64  InRelease\n",
            "Hit:9 https://developer.download.nvidia.com/compute/machine-learning/repos/ubuntu1804/x86_64  Release\n",
            "Hit:10 http://ppa.launchpad.net/cran/libgit2/ubuntu bionic InRelease\n",
            "Hit:11 http://ppa.launchpad.net/deadsnakes/ppa/ubuntu bionic InRelease\n",
            "Hit:12 http://ppa.launchpad.net/graphics-drivers/ppa/ubuntu bionic InRelease\n",
            "Reading package lists... Done\n"
          ]
        }
      ],
      "source": [
        "import os\n",
        "# Find the latest version of spark 3.0  from http://www.apache.org/dist/spark/ and enter as the spark version\n",
        "# For example:\n",
        "spark_version = 'spark-3.0.3'\n",
        "os.environ['SPARK_VERSION']=spark_version\n",
        "\n",
        "# Install Spark and Java\n",
        "!apt-get update\n",
        "!apt-get install openjdk-8-jdk-headless -qq > /dev/null\n",
        "!wget -q http://www.apache.org/dist/spark/$SPARK_VERSION/$SPARK_VERSION-bin-hadoop2.7.tgz\n",
        "!tar xf $SPARK_VERSION-bin-hadoop2.7.tgz\n",
        "!pip install -q findspark\n",
        "\n",
        "# Set Environment Variables\n",
        "import os\n",
        "os.environ[\"JAVA_HOME\"] = \"/usr/lib/jvm/java-8-openjdk-amd64\"\n",
        "os.environ[\"SPARK_HOME\"] = f\"/content/{spark_version}-bin-hadoop2.7\"\n",
        "\n",
        "# Start a SparkSession\n",
        "import findspark\n",
        "findspark.init()"
      ]
    },
    {
      "cell_type": "code",
      "source": [
        "!wget https://jdbc.postgresql.org/download/postgresql-42.2.9.jar"
      ],
      "metadata": {
        "colab": {
          "base_uri": "https://localhost:8080/"
        },
        "id": "9TfqxyakpYmy",
        "outputId": "2bc02dd8-a3ed-4751-b9cb-8a1561d3fd08"
      },
      "execution_count": 2,
      "outputs": [
        {
          "output_type": "stream",
          "name": "stdout",
          "text": [
            "--2022-05-19 00:32:44--  https://jdbc.postgresql.org/download/postgresql-42.2.9.jar\n",
            "Resolving jdbc.postgresql.org (jdbc.postgresql.org)... 72.32.157.228, 2001:4800:3e1:1::228\n",
            "Connecting to jdbc.postgresql.org (jdbc.postgresql.org)|72.32.157.228|:443... connected.\n",
            "HTTP request sent, awaiting response... 200 OK\n",
            "Length: 914037 (893K) [application/java-archive]\n",
            "Saving to: ‘postgresql-42.2.9.jar.1’\n",
            "\n",
            "postgresql-42.2.9.j 100%[===================>] 892.61K  --.-KB/s    in 0.1s    \n",
            "\n",
            "2022-05-19 00:32:45 (5.94 MB/s) - ‘postgresql-42.2.9.jar.1’ saved [914037/914037]\n",
            "\n"
          ]
        }
      ]
    },
    {
      "cell_type": "code",
      "source": [
        "from pyspark.sql import SparkSession\n",
        "spark = SparkSession.builder.appName(\"GameCloudETL\").config(\"spark.driver.extraClassPath\",\"/content/postgresql-42.2.9.jar\").getOrCreate()"
      ],
      "metadata": {
        "id": "UB5_GAizqEe3"
      },
      "execution_count": 3,
      "outputs": []
    },
    {
      "cell_type": "code",
      "source": [
        "from pyspark import SparkFiles\n",
        "# Load in review data from S3 into a DataFrame\n",
        "url = \"https://s3.amazonaws.com/amazon-reviews-pds/tsv/amazon_reviews_us_Video_Games_v1_00.tsv.gz\"\n",
        "spark.sparkContext.addFile(url)\n",
        "\n",
        "df = spark.read.option('header', 'true').csv(SparkFiles.get(\"amazon_reviews_us_Video_Games_v1_00.tsv.gz\"), inferSchema=True, sep='\\t', header=True, timestampFormat=\"yyyy-mm-dd\")\n",
        "df.show(10)"
      ],
      "metadata": {
        "colab": {
          "base_uri": "https://localhost:8080/"
        },
        "id": "v3hnd2bmqH18",
        "outputId": "c486130a-f27b-46e2-9648-2245aee9da1b"
      },
      "execution_count": 4,
      "outputs": [
        {
          "output_type": "stream",
          "name": "stdout",
          "text": [
            "+-----------+-----------+--------------+----------+--------------+--------------------+----------------+-----------+-------------+-----------+----+-----------------+--------------------+--------------------+-------------------+\n",
            "|marketplace|customer_id|     review_id|product_id|product_parent|       product_title|product_category|star_rating|helpful_votes|total_votes|vine|verified_purchase|     review_headline|         review_body|        review_date|\n",
            "+-----------+-----------+--------------+----------+--------------+--------------------+----------------+-----------+-------------+-----------+----+-----------------+--------------------+--------------------+-------------------+\n",
            "|         US|   12039526| RTIS3L2M1F5SM|B001CXYMFS|     737716809|Thrustmaster T-Fl...|     Video Games|          5|            0|          0|   N|                Y|an amazing joysti...|Used this for Eli...|2015-01-31 00:08:00|\n",
            "|         US|    9636577| R1ZV7R40OLHKD|B00M920ND6|     569686175|Tonsee 6 buttons ...|     Video Games|          5|            0|          0|   N|                Y|Definitely a sile...|Loved it,  I didn...|2015-01-31 00:08:00|\n",
            "|         US|    2331478|R3BH071QLH8QMC|B0029CSOD2|      98937668|Hidden Mysteries:...|     Video Games|          1|            0|          1|   N|                Y|            One Star|poor quality work...|2015-01-31 00:08:00|\n",
            "|         US|   52495923|R127K9NTSXA2YH|B00GOOSV98|      23143350|GelTabz Performan...|     Video Games|          3|            0|          0|   N|                Y|good, but could b...|nice, but tend to...|2015-01-31 00:08:00|\n",
            "|         US|   14533949|R32ZWUXDJPW27Q|B00Y074JOM|     821342511|Zero Suit Samus a...|     Video Games|          4|            0|          0|   N|                Y|   Great but flawed.|Great amiibo, gre...|2015-01-31 00:08:00|\n",
            "|         US|    2377552|R3AQQ4YUKJWBA6|B002UBI6W6|     328764615|Psyclone Recharge...|     Video Games|          1|            0|          0|   N|                Y|            One Star|The remote consta...|2015-01-31 00:08:00|\n",
            "|         US|   17521011|R2F0POU5K6F73F|B008XHCLFO|      24234603|Protection for yo...|     Video Games|          5|            0|          0|   N|                Y|              A Must|I have a 2012-201...|2015-01-31 00:08:00|\n",
            "|         US|   19676307|R3VNR804HYSMR6|B00BRA9R6A|     682267517|   Nerf 3DS XL Armor|     Video Games|          5|            0|          0|   N|                Y|          Five Stars|Perfect, kids lov...|2015-01-31 00:08:00|\n",
            "|         US|     224068| R3GZTM72WA2QH|B009EPWJLA|     435241890|One Piece: Pirate...|     Video Games|          5|            0|          0|   N|                Y|          Five Stars|            Excelent|2015-01-31 00:08:00|\n",
            "|         US|   48467989| RNQOY62705W1K|B0000AV7GB|     256572651|Playstation 2 Dan...|     Video Games|          4|            0|          0|   N|                Y|          Four Stars|Slippery but expe...|2015-01-31 00:08:00|\n",
            "+-----------+-----------+--------------+----------+--------------+--------------------+----------------+-----------+-------------+-----------+----+-----------------+--------------------+--------------------+-------------------+\n",
            "only showing top 10 rows\n",
            "\n"
          ]
        }
      ]
    },
    {
      "cell_type": "code",
      "source": [
        "print(df.count())\n",
        "df = df.dropna()\n",
        "print(df.count())\n",
        "df = df.dropDuplicates()\n",
        "print(df.count())"
      ],
      "metadata": {
        "colab": {
          "base_uri": "https://localhost:8080/"
        },
        "id": "L05L775MsD40",
        "outputId": "ed3cdd28-425c-4b2a-ded0-de5b8a92f33d"
      },
      "execution_count": 5,
      "outputs": [
        {
          "output_type": "stream",
          "name": "stdout",
          "text": [
            "1785997\n",
            "1785886\n",
            "1785886\n"
          ]
        }
      ]
    },
    {
      "cell_type": "code",
      "source": [
        "df.printSchema()"
      ],
      "metadata": {
        "colab": {
          "base_uri": "https://localhost:8080/"
        },
        "id": "3vJUSYCos4k0",
        "outputId": "fae39791-b760-4279-d934-1bb0dd2628ef"
      },
      "execution_count": 6,
      "outputs": [
        {
          "output_type": "stream",
          "name": "stdout",
          "text": [
            "root\n",
            " |-- marketplace: string (nullable = true)\n",
            " |-- customer_id: integer (nullable = true)\n",
            " |-- review_id: string (nullable = true)\n",
            " |-- product_id: string (nullable = true)\n",
            " |-- product_parent: integer (nullable = true)\n",
            " |-- product_title: string (nullable = true)\n",
            " |-- product_category: string (nullable = true)\n",
            " |-- star_rating: integer (nullable = true)\n",
            " |-- helpful_votes: integer (nullable = true)\n",
            " |-- total_votes: integer (nullable = true)\n",
            " |-- vine: string (nullable = true)\n",
            " |-- verified_purchase: string (nullable = true)\n",
            " |-- review_headline: string (nullable = true)\n",
            " |-- review_body: string (nullable = true)\n",
            " |-- review_date: timestamp (nullable = true)\n",
            "\n"
          ]
        }
      ]
    },
    {
      "cell_type": "markdown",
      "source": [
        "Transform data for review_id_table"
      ],
      "metadata": {
        "id": "nc8ZglPm-OGB"
      }
    },
    {
      "cell_type": "code",
      "source": [
        "#Create new DataFrame for review_id_table\n",
        "review_id_table = df.select([\"review_id\", \"customer_id\", \"product_id\", \"product_parent\", \"review_date\"])\n",
        "review_id_table.show()"
      ],
      "metadata": {
        "colab": {
          "base_uri": "https://localhost:8080/"
        },
        "id": "fvwU-nBis8E2",
        "outputId": "5393a5f2-eba7-4c1e-b920-fe535a579b3a"
      },
      "execution_count": 8,
      "outputs": [
        {
          "output_type": "stream",
          "name": "stdout",
          "text": [
            "+--------------+-----------+----------+--------------+-------------------+\n",
            "|     review_id|customer_id|product_id|product_parent|        review_date|\n",
            "+--------------+-----------+----------+--------------+-------------------+\n",
            "|R101BFBMRAOEDT|   25979950|B002BRZ9G0|     795773015|2013-01-13 00:12:00|\n",
            "|R101OYKK90GCD3|   26424123|B000ZK9QD2|     343904943|2009-01-23 00:10:00|\n",
            "|R1025IN3G40UR0|   45793084|B00004TJCL|     754868066|2001-01-12 00:03:00|\n",
            "|R102FS86G4B4N3|   46213053|B007FTE2VW|     265303108|2013-01-08 00:03:00|\n",
            "|R102MY1UF3EV41|   29760851|B000035XCA|     480040881|2013-01-06 00:11:00|\n",
            "|R102YIWZEIAXT9|   16385120|B000UQAUWW|     694091073|2007-01-29 00:11:00|\n",
            "|R104KX3QSYZDMQ|   12772181|B002I0JBVY|     763179750|2013-01-23 00:01:00|\n",
            "|R104LQ2H4P36H5|   46318135|B0050SXLQC|       8683886|2013-01-27 00:01:00|\n",
            "|R105RLBQN5OIH7|   49538915|B0011E82F4|      66523065|2013-01-29 00:12:00|\n",
            "|R1061FAGHHER0R|   18090895|B00HUWA45W|     753176240|2014-01-24 00:06:00|\n",
            "|R106IO8YEZQ8LJ|   36881167|B003O6JKLC|     465074932|2011-01-20 00:01:00|\n",
            "|R106K7GK45VBML|   35196120|B000VTQ3LU|     785745492|2008-01-01 00:12:00|\n",
            "|R106YGJPHK3E9V|   52429057|B00000J2W7|     943948953|2000-01-04 00:11:00|\n",
            "|R108A9Q26SJIUW|   40703123|B00005QB9P|     895899205|2001-01-02 00:11:00|\n",
            "|R108BLLIHIW584|   47392931|B00002STAE|     715862727|2014-01-09 00:07:00|\n",
            "|R108TO6S7EA6YG|   21102734|B000654X0M|     443373122|2012-01-19 00:12:00|\n",
            "|R109U0RMM0VG7Y|   35776841|B001KX504C|     739520259|2009-01-08 00:12:00|\n",
            "|R10AAFF3N8Z9WI|   43738008|B003RNRD4S|     240225848|2013-01-27 00:04:00|\n",
            "|R10AB04TWW5U9T|   31286232|B003WF4826|     330369803|2015-01-15 00:01:00|\n",
            "|R10ADC7LCXO3V2|     888889|B00NNU07RU|     255456687|2015-01-19 00:01:00|\n",
            "+--------------+-----------+----------+--------------+-------------------+\n",
            "only showing top 20 rows\n",
            "\n"
          ]
        }
      ]
    },
    {
      "cell_type": "code",
      "source": [
        "#Write DataFrame to RDS\n",
        "mode=\"append\"\n",
        "jdbc_url = \"jdbc:postgresql://mypostgresdb.cojhn4lpsels.us-east-1.rds.amazonaws.com:5432/big_data_db\"\n",
        "config = {\"user\":\"root\",\n",
        "          \"password\": \"\",\n",
        "          \"driver\":\"org.postgresql.Driver\"}"
      ],
      "metadata": {
        "id": "Toalps34weXj"
      },
      "execution_count": 9,
      "outputs": []
    },
    {
      "cell_type": "code",
      "source": [
        "review_id_table.write.jdbc(url=jdbc_url, table='review_id_table', mode=mode, properties=config)"
      ],
      "metadata": {
        "id": "yI7fBxECxF3g"
      },
      "execution_count": 10,
      "outputs": []
    },
    {
      "cell_type": "markdown",
      "source": [
        "Transform data for products table"
      ],
      "metadata": {
        "id": "N5Vem7tI-G-m"
      }
    },
    {
      "cell_type": "code",
      "source": [
        "#Create new DataFrame for products table\n",
        "products = df.select([\"product_id\", \"product_title\"])\n",
        "products.show()"
      ],
      "metadata": {
        "colab": {
          "base_uri": "https://localhost:8080/"
        },
        "id": "C2aR6mYFxTip",
        "outputId": "18c5f7ca-4f83-43f0-9662-b025a62f3620"
      },
      "execution_count": 11,
      "outputs": [
        {
          "output_type": "stream",
          "name": "stdout",
          "text": [
            "+----------+--------------------+\n",
            "|product_id|       product_title|\n",
            "+----------+--------------------+\n",
            "|B002BRZ9G0|New Super Mario B...|\n",
            "|B000ZK9QD2|      Gears of War 2|\n",
            "|B00004TJCL|Half-Life: Counte...|\n",
            "|B007FTE2VW|SimCity - Limited...|\n",
            "|B000035XCA|Terminator 2: Jud...|\n",
            "|B000UQAUWW|Xbox 360 Console ...|\n",
            "|B002I0JBVY|       Kinect Sports|\n",
            "|B0050SXLQC|     Resident Evil 6|\n",
            "|B0011E82F4|   Xbox 360 AV Cable|\n",
            "|B00HUWA45W|KontrolFreek FPS ...|\n",
            "|B003O6JKLC|Xbox 360 4GB Console|\n",
            "|B000VTQ3LU|     PlayStation Eye|\n",
            "|B00000J2W7|   Super Smash Bros.|\n",
            "|B00005QB9P|Rogue Spear Black...|\n",
            "|B00002STAE|NHL '95 [E] [Sega...|\n",
            "|B000654X0M|  Timesplitters- PS2|\n",
            "|B001KX504C|Gold's Gym Cardio...|\n",
            "|B003RNRD4S| Wii Stand (RVL-017)|\n",
            "|B003WF4826|  10 Minute Solution|\n",
            "|B00NNU07RU|    Xbox 360 Console|\n",
            "+----------+--------------------+\n",
            "only showing top 20 rows\n",
            "\n"
          ]
        }
      ]
    },
    {
      "cell_type": "code",
      "source": [
        "#Drop duplicates\n",
        "products = products.dropDuplicates()"
      ],
      "metadata": {
        "id": "piy_9eDxy6zp"
      },
      "execution_count": 13,
      "outputs": []
    },
    {
      "cell_type": "code",
      "source": [
        "#Write DataFrame to RDS\n",
        "products.write.jdbc(url=jdbc_url, table='products', mode=mode, properties=config)"
      ],
      "metadata": {
        "id": "wrWMbtzAx5ZR"
      },
      "execution_count": 14,
      "outputs": []
    },
    {
      "cell_type": "markdown",
      "source": [
        "Transform data for customers table"
      ],
      "metadata": {
        "id": "49qYZuU8-EPU"
      }
    },
    {
      "cell_type": "code",
      "source": [
        "#Create new DataFrame for customers table\n",
        "customers = df.select([\"customer_id\"])\n",
        "customers.show(5)"
      ],
      "metadata": {
        "colab": {
          "base_uri": "https://localhost:8080/"
        },
        "id": "-5bwfq9RyDZK",
        "outputId": "6bc1d3e9-a4c5-4261-dc5d-bf1916a56c1c"
      },
      "execution_count": 15,
      "outputs": [
        {
          "output_type": "stream",
          "name": "stdout",
          "text": [
            "+-----------+\n",
            "|customer_id|\n",
            "+-----------+\n",
            "|   25979950|\n",
            "|   26424123|\n",
            "|   45793084|\n",
            "|   46213053|\n",
            "|   29760851|\n",
            "+-----------+\n",
            "only showing top 5 rows\n",
            "\n"
          ]
        }
      ]
    },
    {
      "cell_type": "code",
      "source": [
        "#Count ratings by customer_id\n",
        "customers = df.groupby(\"customer_id\").agg({\"customer_id\":\"count\"})\n",
        "customers.show(5)"
      ],
      "metadata": {
        "colab": {
          "base_uri": "https://localhost:8080/"
        },
        "id": "vBOLyYFTykGF",
        "outputId": "d38db349-6445-4227-938b-07809c829908"
      },
      "execution_count": 16,
      "outputs": [
        {
          "output_type": "stream",
          "name": "stdout",
          "text": [
            "+-----------+------------------+\n",
            "|customer_id|count(customer_id)|\n",
            "+-----------+------------------+\n",
            "|   12536485|                 3|\n",
            "|   12907964|                 1|\n",
            "|   45223495|                 2|\n",
            "|   42622247|                 4|\n",
            "|   12889161|                 1|\n",
            "+-----------+------------------+\n",
            "only showing top 5 rows\n",
            "\n"
          ]
        }
      ]
    },
    {
      "cell_type": "code",
      "source": [
        "#Rename count column\n",
        "customers = customers.withColumnRenamed(\"count(customer_id)\", \"customer_count\")\n",
        "customers.show(5)"
      ],
      "metadata": {
        "colab": {
          "base_uri": "https://localhost:8080/"
        },
        "id": "EBUskW4EzXAw",
        "outputId": "acada6a3-e414-4c22-a2f9-a47056d5865a"
      },
      "execution_count": 17,
      "outputs": [
        {
          "output_type": "stream",
          "name": "stdout",
          "text": [
            "+-----------+--------------+\n",
            "|customer_id|customer_count|\n",
            "+-----------+--------------+\n",
            "|   12536485|             3|\n",
            "|   12907964|             1|\n",
            "|   45223495|             2|\n",
            "|   42622247|             4|\n",
            "|   12889161|             1|\n",
            "+-----------+--------------+\n",
            "only showing top 5 rows\n",
            "\n"
          ]
        }
      ]
    },
    {
      "cell_type": "code",
      "source": [
        "#Write DataFrame to RDS\n",
        "customers.write.jdbc(url=jdbc_url, table='customers', mode=mode, properties=config)"
      ],
      "metadata": {
        "id": "Z3PORsS3zsmj"
      },
      "execution_count": 18,
      "outputs": []
    },
    {
      "cell_type": "markdown",
      "source": [
        "Transform data for vine_table"
      ],
      "metadata": {
        "id": "48VPgV_A-AWd"
      }
    },
    {
      "cell_type": "code",
      "source": [
        "#Create new DataFrame for vine_table\n",
        "vine_table = df.select([\"review_id\", \"star_rating\", \"helpful_votes\", \"total_votes\", \"vine\"])\n",
        "vine_table.show()"
      ],
      "metadata": {
        "colab": {
          "base_uri": "https://localhost:8080/"
        },
        "id": "R920J1LrzzIC",
        "outputId": "996fe2d0-5fb6-450c-880c-53dc38537fdf"
      },
      "execution_count": 19,
      "outputs": [
        {
          "output_type": "stream",
          "name": "stdout",
          "text": [
            "+--------------+-----------+-------------+-----------+----+\n",
            "|     review_id|star_rating|helpful_votes|total_votes|vine|\n",
            "+--------------+-----------+-------------+-----------+----+\n",
            "|R101BFBMRAOEDT|          3|            0|          1|   N|\n",
            "|R101OYKK90GCD3|          5|            0|          1|   N|\n",
            "|R1025IN3G40UR0|          4|           36|         38|   N|\n",
            "|R102FS86G4B4N3|          1|            0|          0|   N|\n",
            "|R102MY1UF3EV41|          5|            0|          0|   N|\n",
            "|R102YIWZEIAXT9|          5|            2|          4|   N|\n",
            "|R104KX3QSYZDMQ|          5|            0|          0|   N|\n",
            "|R104LQ2H4P36H5|          5|            0|          0|   N|\n",
            "|R105RLBQN5OIH7|          4|            0|          1|   N|\n",
            "|R1061FAGHHER0R|          5|            0|          0|   N|\n",
            "|R106IO8YEZQ8LJ|          1|            5|         11|   N|\n",
            "|R106K7GK45VBML|          4|            1|          1|   N|\n",
            "|R106YGJPHK3E9V|          5|            3|          6|   N|\n",
            "|R108A9Q26SJIUW|          5|            1|          3|   N|\n",
            "|R108BLLIHIW584|          1|            0|          2|   N|\n",
            "|R108TO6S7EA6YG|          5|            0|          0|   N|\n",
            "|R109U0RMM0VG7Y|          5|            2|          2|   N|\n",
            "|R10AAFF3N8Z9WI|          5|            1|          1|   N|\n",
            "|R10AB04TWW5U9T|          5|            0|          0|   N|\n",
            "|R10ADC7LCXO3V2|          1|            4|          7|   N|\n",
            "+--------------+-----------+-------------+-----------+----+\n",
            "only showing top 20 rows\n",
            "\n"
          ]
        }
      ]
    },
    {
      "cell_type": "code",
      "source": [
        "#Write DataFrame to RDS\n",
        "vine_table.write.jdbc(url=jdbc_url, table='vine_table', mode=mode, properties=config)"
      ],
      "metadata": {
        "id": "1FB9pse50qVh"
      },
      "execution_count": 20,
      "outputs": []
    }
  ]
}